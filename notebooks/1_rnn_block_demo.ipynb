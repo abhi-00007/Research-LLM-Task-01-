{
 "cells": [
  {
   "cell_type": "markdown",
   "id": "134d3aed",
   "metadata": {},
   "source": [
    "# RNN Block Demo\n",
    "This notebook demonstrates a simple RNN using PyTorch."
   ]
  },
  {
   "cell_type": "code",
   "execution_count": 2,
   "id": "32ec01b1",
   "metadata": {},
   "outputs": [
    {
     "name": "stdout",
     "output_type": "stream",
     "text": [
      "Output shape: torch.Size([3, 5, 20])\n"
     ]
    }
   ],
   "source": [
    "import torch\n",
    "import torch.nn as nn\n",
    "rnn = nn.RNN(input_size=10, hidden_size=20, num_layers=1, batch_first=True)\n",
    "x = torch.randn(3, 5, 10)  # batch of 3, sequence of 5, features 10\n",
    "h0 = torch.zeros(1, 3, 20)\n",
    "output, hn = rnn(x, h0)\n",
    "print(\"Output shape:\", output.shape)"
   ]
  },
  {
   "cell_type": "code",
   "execution_count": null,
   "id": "a31e4c84-f031-4b2d-b433-160c9e702bc3",
   "metadata": {},
   "outputs": [],
   "source": []
  }
 ],
 "metadata": {
  "kernelspec": {
   "display_name": "Python 3 (ipykernel)",
   "language": "python",
   "name": "python3"
  },
  "language_info": {
   "codemirror_mode": {
    "name": "ipython",
    "version": 3
   },
   "file_extension": ".py",
   "mimetype": "text/x-python",
   "name": "python",
   "nbconvert_exporter": "python",
   "pygments_lexer": "ipython3",
   "version": "3.12.6"
  }
 },
 "nbformat": 4,
 "nbformat_minor": 5
}
